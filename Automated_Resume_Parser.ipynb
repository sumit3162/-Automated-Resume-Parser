{
 "cells": [
  {
   "cell_type": "markdown",
   "id": "05d469f2",
   "metadata": {},
   "source": [
    "### 🧠 **Automated Resume Parser**\n",
    "**Project Goal:** Automatically extract structured information (name, skills, education, etc.) from resumes (PDF/DOCX) and store it in a PostgreSQL database."
   ]
  },
  {
   "cell_type": "markdown",
   "id": "9694974f",
   "metadata": {},
   "source": [
    "#### 📌 **Technologies Used**\n",
    "- Python\n",
    "- spaCy\n",
    "- PDFPlumber\n",
    "- python-docx\n",
    "- Flask (for optional API integration)\n",
    "- PostgreSQL"
   ]
  },
  {
   "cell_type": "code",
   "execution_count": null,
   "id": "fe8cf6a9",
   "metadata": {},
   "outputs": [],
   "source": [
    "import spacy\n",
    "import pdfplumber\n",
    "import docx\n",
    "import psycopg2\n",
    "import re"
   ]
  },
  {
   "cell_type": "markdown",
   "id": "245a15f7",
   "metadata": {},
   "source": [
    "### 📄 **Function to Extract Text from PDF**"
   ]
  },
  {
   "cell_type": "code",
   "execution_count": null,
   "id": "0306970f",
   "metadata": {},
   "outputs": [],
   "source": [
    "def extract_text_from_pdf(file_path):\n",
    "    text = \"\"\n",
    "    with pdfplumber.open(file_path) as pdf:\n",
    "        for page in pdf.pages:\n",
    "            text += page.extract_text()\n",
    "    return text"
   ]
  },
  {
   "cell_type": "markdown",
   "id": "c424843d",
   "metadata": {},
   "source": [
    "### 📄 **Function to Extract Text from DOCX**"
   ]
  },
  {
   "cell_type": "code",
   "execution_count": null,
   "id": "945f4d3e",
   "metadata": {},
   "outputs": [],
   "source": [
    "def extract_text_from_docx(file_path):\n",
    "    doc = docx.Document(file_path)\n",
    "    return \"\\n\".join([para.text for para in doc.paragraphs])"
   ]
  },
  {
   "cell_type": "markdown",
   "id": "35450d40",
   "metadata": {},
   "source": [
    "### 🧠 **NLP-Based Info Extraction using spaCy**"
   ]
  },
  {
   "cell_type": "code",
   "execution_count": null,
   "id": "3e6b472c",
   "metadata": {},
   "outputs": [],
   "source": [
    "nlp = spacy.load(\"en_core_web_sm\")\n",
    "\n",
    "def extract_entities(text):\n",
    "    doc = nlp(text)\n",
    "    entities = {\"PERSON\": [], \"ORG\": [], \"EDUCATION\": [], \"SKILLS\": []}\n",
    "\n",
    "    for ent in doc.ents:\n",
    "        if ent.label_ == \"PERSON\":\n",
    "            entities[\"PERSON\"].append(ent.text)\n",
    "        elif ent.label_ == \"ORG\":\n",
    "            entities[\"ORG\"].append(ent.text)\n",
    "    return entities"
   ]
  },
  {
   "cell_type": "markdown",
   "id": "6a0fc8eb",
   "metadata": {},
   "source": [
    "### ⚙️ **Custom Skill Extraction (Regex/Keyword Match)**"
   ]
  },
  {
   "cell_type": "code",
   "execution_count": null,
   "id": "bd4cdb79",
   "metadata": {},
   "outputs": [],
   "source": [
    "def extract_skills(text, skill_set):\n",
    "    skills_found = []\n",
    "    for skill in skill_set:\n",
    "        if re.search(rf\"\\b{re.escape(skill)}\\b\", text, re.IGNORECASE):\n",
    "            skills_found.append(skill)\n",
    "    return list(set(skills_found))\n",
    "\n",
    "skills_db = ['Python', 'Machine Learning', 'SQL', 'Flask', 'NLP']"
   ]
  },
  {
   "cell_type": "markdown",
   "id": "22be1cdb",
   "metadata": {},
   "source": [
    "### 🛢️ **Store Extracted Data in PostgreSQL**"
   ]
  },
  {
   "cell_type": "code",
   "execution_count": null,
   "id": "a38a0acb",
   "metadata": {},
   "outputs": [],
   "source": [
    "def store_in_db(data):\n",
    "    conn = psycopg2.connect(\n",
    "        dbname=\"resume_db\",\n",
    "        user=\"postgres\",\n",
    "        password=\"your_password\",\n",
    "        host=\"localhost\",\n",
    "        port=\"5432\"\n",
    "    )\n",
    "    cursor = conn.cursor()\n",
    "\n",
    "    insert_query = \"\"\"\n",
    "    INSERT INTO resumes (name, skills, education, organization)\n",
    "    VALUES (%s, %s, %s, %s)\n",
    "    \"\"\"\n",
    "    cursor.execute(insert_query, (data['PERSON'][0], \n",
    "                                  \", \".join(data['SKILLS']), \n",
    "                                  \", \".join(data['EDUCATION']), \n",
    "                                  \", \".join(data['ORG'])))\n",
    "\n",
    "    conn.commit()\n",
    "    cursor.close()\n",
    "    conn.close()"
   ]
  },
  {
   "cell_type": "markdown",
   "id": "06cf661b",
   "metadata": {},
   "source": [
    "### ✅ **End-to-End Execution**"
   ]
  },
  {
   "cell_type": "code",
   "execution_count": null,
   "id": "5f7638b9",
   "metadata": {},
   "outputs": [],
   "source": [
    "file_path = \"sample_resume.pdf\"  # or .docx\n",
    "text = extract_text_from_pdf(file_path)\n",
    "entities = extract_entities(text)\n",
    "entities[\"SKILLS\"] = extract_skills(text, skills_db)\n",
    "\n",
    "store_in_db(entities)"
   ]
  },
  {
   "cell_type": "markdown",
   "id": "1447244d",
   "metadata": {},
   "source": [
    "### 🔍 **Output Example**"
   ]
  },
  {
   "cell_type": "code",
   "execution_count": null,
   "id": "0c772b21",
   "metadata": {},
   "outputs": [],
   "source": [
    "print(entities)"
   ]
  }
 ],
 "metadata": {},
 "nbformat": 4,
 "nbformat_minor": 5
}
